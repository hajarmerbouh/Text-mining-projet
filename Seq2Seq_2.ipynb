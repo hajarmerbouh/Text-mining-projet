{
  "cells": [
    {
      "cell_type": "markdown",
      "source": [
        "# Seq2seq model with testing\n",
        "\n",
        "Another alternative of implementing Seq2Seq model "
      ],
      "metadata": {
        "id": "9WMUOTKhs8nG"
      },
      "id": "9WMUOTKhs8nG"
    },
    {
      "cell_type": "code",
      "execution_count": null,
      "id": "6b7da92c",
      "metadata": {
        "id": "6b7da92c"
      },
      "outputs": [],
      "source": [
        "import numpy as np\n",
        "from tensorflow.keras.models import Model\n",
        "from tensorflow.keras.layers import Input, LSTM, Dense\n",
        "from tensorflow.keras.utils import *\n",
        "from tensorflow.keras.initializers import *\n",
        "import tensorflow as tf\n",
        "import time, random"
      ]
    },
    {
      "cell_type": "code",
      "source": [
        "#increase our GPU read batch size\n",
        "\n",
        "gpus = tf.config.list_physical_devices('GPU')\n",
        "if gpus:\n",
        "  try:\n",
        "    # Currently, memory growth needs to be the same across GPUs\n",
        "    for gpu in gpus:\n",
        "      tf.config.experimental.set_memory_growth(gpu, True)\n",
        "    logical_gpus = tf.config.list_logical_devices('GPU')\n",
        "    print(len(gpus), \"Physical GPUs,\", len(logical_gpus), \"Logical GPUs\")\n",
        "  except RuntimeError as e:\n",
        "    # Memory growth must be set before GPUs have been initialized\n",
        "    print(e)"
      ],
      "metadata": {
        "id": "gJrhI5hToEjb",
        "outputId": "5c699407-5d42-45f2-f9e1-f4d96e9245d9",
        "colab": {
          "base_uri": "https://localhost:8080/"
        }
      },
      "id": "gJrhI5hToEjb",
      "execution_count": null,
      "outputs": [
        {
          "output_type": "stream",
          "name": "stdout",
          "text": [
            "1 Physical GPUs, 1 Logical GPUs\n"
          ]
        }
      ]
    },
    {
      "cell_type": "code",
      "execution_count": null,
      "metadata": {
        "colab": {
          "base_uri": "https://localhost:8080/"
        },
        "id": "1NQ0aTT5dEN0",
        "outputId": "31378f38-e6a0-47f2-8b2b-5891e468ebeb"
      },
      "outputs": [
        {
          "output_type": "stream",
          "name": "stdout",
          "text": [
            "Mounted at /drive\n"
          ]
        }
      ],
      "source": [
        "from google.colab import  drive\n",
        "drive.mount('/drive')"
      ],
      "id": "1NQ0aTT5dEN0"
    },
    {
      "cell_type": "code",
      "execution_count": null,
      "metadata": {
        "id": "EZhdyhk7trWc"
      },
      "outputs": [],
      "source": [
        "import pandas as pd\n",
        "\n",
        "\n",
        "\n",
        "import gensim\n",
        "\n",
        "import numpy as np\n",
        "from sklearn.manifold import TSNE\n",
        "from matplotlib import pyplot as plt\n",
        "\n",
        "from gensim.models import Word2Vec, KeyedVectors   \n",
        "from tensorflow.keras.models import Model, Sequential\n",
        "from tensorflow.keras.regularizers import L1L2\n",
        "from tensorflow.keras.optimizers.schedules import ExponentialDecay\n",
        "from tensorflow.keras.optimizers import SGD, Adam, RMSprop\n",
        "from tensorflow.keras.callbacks import EarlyStopping, TensorBoard, ModelCheckpoint\n",
        "from tensorflow.keras.preprocessing.text import Tokenizer"
      ],
      "id": "EZhdyhk7trWc"
    },
    {
      "cell_type": "code",
      "execution_count": null,
      "metadata": {
        "id": "g0Q17vUrtkou"
      },
      "outputs": [],
      "source": [
        "#train dataset\n",
        "train=pd.read_csv('/content/train.csv')\n",
        "# val & test datasets\n",
        "val=pd.read_csv('/content/val.csv')\n",
        "test=pd.read_csv('/content/test.csv')"
      ],
      "id": "g0Q17vUrtkou"
    },
    {
      "cell_type": "code",
      "execution_count": null,
      "metadata": {
        "colab": {
          "base_uri": "https://localhost:8080/",
          "height": 423
        },
        "id": "MeVKI86JvE8h",
        "outputId": "aaf233e8-244b-43c3-8f0d-63cd1cfc4a7c"
      },
      "outputs": [
        {
          "output_type": "execute_result",
          "data": {
            "text/plain": [
              "                                                  RawText ICD10\n",
              "0               Thrombose veineuse profonde cuisse gauche  I802\n",
              "1                             Hémiplégie post-traumatique  S099\n",
              "2              Masculinisation avec hyperplasie surrénale  E250\n",
              "3                               Hyperammoniémie cérébrale  E722\n",
              "4       Fistule artérioveineuse congénitale périphériq...  Q257\n",
              "...                                                   ...   ...\n",
              "181758                                  Prématurité 32 SA  P073\n",
              "181759              Rétinopathie E14.3 malnutrition E12.3  H360\n",
              "181760                                Métastase pariétale  C798\n",
              "181761                         Lésion cutanée de la pinta  A673\n",
              "181762  Anémie par carence 2, 3 diphospho-glycérate-mu...  D552\n",
              "\n",
              "[181763 rows x 2 columns]"
            ],
            "text/html": [
              "\n",
              "  <div id=\"df-daf3fc38-2163-43a6-9039-8beb99065cb6\">\n",
              "    <div class=\"colab-df-container\">\n",
              "      <div>\n",
              "<style scoped>\n",
              "    .dataframe tbody tr th:only-of-type {\n",
              "        vertical-align: middle;\n",
              "    }\n",
              "\n",
              "    .dataframe tbody tr th {\n",
              "        vertical-align: top;\n",
              "    }\n",
              "\n",
              "    .dataframe thead th {\n",
              "        text-align: right;\n",
              "    }\n",
              "</style>\n",
              "<table border=\"1\" class=\"dataframe\">\n",
              "  <thead>\n",
              "    <tr style=\"text-align: right;\">\n",
              "      <th></th>\n",
              "      <th>RawText</th>\n",
              "      <th>ICD10</th>\n",
              "    </tr>\n",
              "  </thead>\n",
              "  <tbody>\n",
              "    <tr>\n",
              "      <th>0</th>\n",
              "      <td>Thrombose veineuse profonde cuisse gauche</td>\n",
              "      <td>I802</td>\n",
              "    </tr>\n",
              "    <tr>\n",
              "      <th>1</th>\n",
              "      <td>Hémiplégie post-traumatique</td>\n",
              "      <td>S099</td>\n",
              "    </tr>\n",
              "    <tr>\n",
              "      <th>2</th>\n",
              "      <td>Masculinisation avec hyperplasie surrénale</td>\n",
              "      <td>E250</td>\n",
              "    </tr>\n",
              "    <tr>\n",
              "      <th>3</th>\n",
              "      <td>Hyperammoniémie cérébrale</td>\n",
              "      <td>E722</td>\n",
              "    </tr>\n",
              "    <tr>\n",
              "      <th>4</th>\n",
              "      <td>Fistule artérioveineuse congénitale périphériq...</td>\n",
              "      <td>Q257</td>\n",
              "    </tr>\n",
              "    <tr>\n",
              "      <th>...</th>\n",
              "      <td>...</td>\n",
              "      <td>...</td>\n",
              "    </tr>\n",
              "    <tr>\n",
              "      <th>181758</th>\n",
              "      <td>Prématurité 32 SA</td>\n",
              "      <td>P073</td>\n",
              "    </tr>\n",
              "    <tr>\n",
              "      <th>181759</th>\n",
              "      <td>Rétinopathie E14.3 malnutrition E12.3</td>\n",
              "      <td>H360</td>\n",
              "    </tr>\n",
              "    <tr>\n",
              "      <th>181760</th>\n",
              "      <td>Métastase pariétale</td>\n",
              "      <td>C798</td>\n",
              "    </tr>\n",
              "    <tr>\n",
              "      <th>181761</th>\n",
              "      <td>Lésion cutanée de la pinta</td>\n",
              "      <td>A673</td>\n",
              "    </tr>\n",
              "    <tr>\n",
              "      <th>181762</th>\n",
              "      <td>Anémie par carence 2, 3 diphospho-glycérate-mu...</td>\n",
              "      <td>D552</td>\n",
              "    </tr>\n",
              "  </tbody>\n",
              "</table>\n",
              "<p>181763 rows × 2 columns</p>\n",
              "</div>\n",
              "      <button class=\"colab-df-convert\" onclick=\"convertToInteractive('df-daf3fc38-2163-43a6-9039-8beb99065cb6')\"\n",
              "              title=\"Convert this dataframe to an interactive table.\"\n",
              "              style=\"display:none;\">\n",
              "        \n",
              "  <svg xmlns=\"http://www.w3.org/2000/svg\" height=\"24px\"viewBox=\"0 0 24 24\"\n",
              "       width=\"24px\">\n",
              "    <path d=\"M0 0h24v24H0V0z\" fill=\"none\"/>\n",
              "    <path d=\"M18.56 5.44l.94 2.06.94-2.06 2.06-.94-2.06-.94-.94-2.06-.94 2.06-2.06.94zm-11 1L8.5 8.5l.94-2.06 2.06-.94-2.06-.94L8.5 2.5l-.94 2.06-2.06.94zm10 10l.94 2.06.94-2.06 2.06-.94-2.06-.94-.94-2.06-.94 2.06-2.06.94z\"/><path d=\"M17.41 7.96l-1.37-1.37c-.4-.4-.92-.59-1.43-.59-.52 0-1.04.2-1.43.59L10.3 9.45l-7.72 7.72c-.78.78-.78 2.05 0 2.83L4 21.41c.39.39.9.59 1.41.59.51 0 1.02-.2 1.41-.59l7.78-7.78 2.81-2.81c.8-.78.8-2.07 0-2.86zM5.41 20L4 18.59l7.72-7.72 1.47 1.35L5.41 20z\"/>\n",
              "  </svg>\n",
              "      </button>\n",
              "      \n",
              "  <style>\n",
              "    .colab-df-container {\n",
              "      display:flex;\n",
              "      flex-wrap:wrap;\n",
              "      gap: 12px;\n",
              "    }\n",
              "\n",
              "    .colab-df-convert {\n",
              "      background-color: #E8F0FE;\n",
              "      border: none;\n",
              "      border-radius: 50%;\n",
              "      cursor: pointer;\n",
              "      display: none;\n",
              "      fill: #1967D2;\n",
              "      height: 32px;\n",
              "      padding: 0 0 0 0;\n",
              "      width: 32px;\n",
              "    }\n",
              "\n",
              "    .colab-df-convert:hover {\n",
              "      background-color: #E2EBFA;\n",
              "      box-shadow: 0px 1px 2px rgba(60, 64, 67, 0.3), 0px 1px 3px 1px rgba(60, 64, 67, 0.15);\n",
              "      fill: #174EA6;\n",
              "    }\n",
              "\n",
              "    [theme=dark] .colab-df-convert {\n",
              "      background-color: #3B4455;\n",
              "      fill: #D2E3FC;\n",
              "    }\n",
              "\n",
              "    [theme=dark] .colab-df-convert:hover {\n",
              "      background-color: #434B5C;\n",
              "      box-shadow: 0px 1px 3px 1px rgba(0, 0, 0, 0.15);\n",
              "      filter: drop-shadow(0px 1px 2px rgba(0, 0, 0, 0.3));\n",
              "      fill: #FFFFFF;\n",
              "    }\n",
              "  </style>\n",
              "\n",
              "      <script>\n",
              "        const buttonEl =\n",
              "          document.querySelector('#df-daf3fc38-2163-43a6-9039-8beb99065cb6 button.colab-df-convert');\n",
              "        buttonEl.style.display =\n",
              "          google.colab.kernel.accessAllowed ? 'block' : 'none';\n",
              "\n",
              "        async function convertToInteractive(key) {\n",
              "          const element = document.querySelector('#df-daf3fc38-2163-43a6-9039-8beb99065cb6');\n",
              "          const dataTable =\n",
              "            await google.colab.kernel.invokeFunction('convertToInteractive',\n",
              "                                                     [key], {});\n",
              "          if (!dataTable) return;\n",
              "\n",
              "          const docLinkHtml = 'Like what you see? Visit the ' +\n",
              "            '<a target=\"_blank\" href=https://colab.research.google.com/notebooks/data_table.ipynb>data table notebook</a>'\n",
              "            + ' to learn more about interactive tables.';\n",
              "          element.innerHTML = '';\n",
              "          dataTable['output_type'] = 'display_data';\n",
              "          await google.colab.output.renderOutput(dataTable, element);\n",
              "          const docLink = document.createElement('div');\n",
              "          docLink.innerHTML = docLinkHtml;\n",
              "          element.appendChild(docLink);\n",
              "        }\n",
              "      </script>\n",
              "    </div>\n",
              "  </div>\n",
              "  "
            ]
          },
          "metadata": {},
          "execution_count": 6
        }
      ],
      "source": [
        "train"
      ],
      "id": "MeVKI86JvE8h"
    },
    {
      "cell_type": "markdown",
      "metadata": {
        "id": "QBlwv90r4ZoT"
      },
      "source": [
        "## Cleaning the data"
      ],
      "id": "QBlwv90r4ZoT"
    },
    {
      "cell_type": "markdown",
      "metadata": {
        "id": "H_VAo2-D4UrF"
      },
      "source": [
        "Here we will first install the FrenchLefffLemmatizer library which allows to perform a lemmatization in French"
      ],
      "id": "H_VAo2-D4UrF"
    },
    {
      "cell_type": "code",
      "execution_count": null,
      "metadata": {
        "id": "R4vY-jEY4THd"
      },
      "outputs": [],
      "source": [
        "!pip install git+https://github.com/ClaudeCoulombe/FrenchLefffLemmatizer.git &> /dev/null"
      ],
      "id": "R4vY-jEY4THd"
    },
    {
      "cell_type": "code",
      "execution_count": null,
      "metadata": {
        "colab": {
          "base_uri": "https://localhost:8080/"
        },
        "id": "j4w6PI7D4gkZ",
        "outputId": "8d370821-7c82-42b3-a951-853ea35e9551"
      },
      "outputs": [
        {
          "output_type": "stream",
          "name": "stderr",
          "text": [
            "[nltk_data] Downloading package wordnet to /root/nltk_data...\n",
            "[nltk_data] Downloading package punkt to /root/nltk_data...\n",
            "[nltk_data]   Unzipping tokenizers/punkt.zip.\n",
            "[nltk_data] Downloading package stopwords to /root/nltk_data...\n",
            "[nltk_data]   Unzipping corpora/stopwords.zip.\n"
          ]
        },
        {
          "output_type": "execute_result",
          "data": {
            "text/plain": [
              "True"
            ]
          },
          "metadata": {},
          "execution_count": 8
        }
      ],
      "source": [
        "#import librairies \n",
        "\n",
        "import nltk\n",
        "import string\n",
        "from french_lefff_lemmatizer.french_lefff_lemmatizer import FrenchLefffLemmatizer\n",
        "\n",
        "nltk.download('wordnet')\n",
        "nltk.download('punkt')\n",
        "nltk.download('stopwords')"
      ],
      "id": "j4w6PI7D4gkZ"
    },
    {
      "cell_type": "markdown",
      "metadata": {
        "id": "VO7INSUt4pIz"
      },
      "source": [
        "Then we initialize :\n",
        "\n",
        "- the **stopwords**, which are words that appear very frequently but do not bring any meaning to the sentence (like \"de\", \"le\", \"une\")\n",
        "\n",
        "- a **lemmatizer**, this object allows us to preserve the root of the words so that two words having the same strain will be considered as the same word (example: 'voisine' and 'voisinage' will both be changed to 'voisin')"
      ],
      "id": "VO7INSUt4pIz"
    },
    {
      "cell_type": "code",
      "execution_count": null,
      "metadata": {
        "id": "o35gWbDA4uJA"
      },
      "outputs": [],
      "source": [
        "french_stopwords = nltk.corpus.stopwords.words('french')\n",
        "lemmatizer = FrenchLefffLemmatizer()"
      ],
      "id": "o35gWbDA4uJA"
    },
    {
      "cell_type": "markdown",
      "metadata": {
        "id": "5GcwnZaD4y5m"
      },
      "source": [
        "Afterwards we build our preprocessing function which will successively :\n",
        "\n",
        "- remove the punctuation\n",
        "- remove the numbers\n",
        "- transform the sentences into a list of tokens (a list of words)\n",
        "- remove stopwords (words that don't make sense)\n",
        "lemmatize\n",
        "- remove capital letters\n",
        "- reform sentences with the remaining words"
      ],
      "id": "5GcwnZaD4y5m"
    },
    {
      "cell_type": "code",
      "execution_count": null,
      "metadata": {
        "id": "EeEK_gx65BMM"
      },
      "outputs": [],
      "source": [
        "def French_Preprocess_listofSentence(listofSentence):\n",
        "    preprocess_list = []\n",
        "    for sentence in listofSentence :\n",
        "        sentence_w_punct = \"\".join([i.lower() for i in sentence if i not in string.punctuation])\n",
        "\n",
        "       # sentence_w_num = ''.join(i for i in sentence_w_punct if not i.isdigit())\n",
        "\n",
        "        tokenize_sentence = nltk.tokenize.word_tokenize(sentence_w_punct)\n",
        "\n",
        "        words_w_stopwords = [i for i in tokenize_sentence if i not in french_stopwords]\n",
        "\n",
        "        words_lemmatize = (lemmatizer.lemmatize(w) for w in words_w_stopwords)\n",
        "\n",
        "        sentence_clean = ' '.join(w for w in words_lemmatize)\n",
        "\n",
        "        preprocess_list.append(sentence_clean)\n",
        "\n",
        "    return preprocess_list"
      ],
      "id": "EeEK_gx65BMM"
    },
    {
      "cell_type": "code",
      "execution_count": null,
      "metadata": {
        "id": "5Em8i4Kj5Q2G"
      },
      "outputs": [],
      "source": [
        "cleaned_train_text = French_Preprocess_listofSentence(train['RawText'])\n",
        "cleaned_val_text = French_Preprocess_listofSentence(val['RawText'])\n",
        "cleaned_test_text = French_Preprocess_listofSentence(test['RawText'])"
      ],
      "id": "5Em8i4Kj5Q2G"
    },
    {
      "cell_type": "code",
      "execution_count": null,
      "metadata": {
        "id": "DvQpQBw45lIZ"
      },
      "outputs": [],
      "source": [
        "train['cleaned_text']=cleaned_train_text\n",
        "val['cleaned_text']=cleaned_val_text\n",
        "test['cleaned_text']=cleaned_test_text"
      ],
      "id": "DvQpQBw45lIZ"
    },
    {
      "cell_type": "code",
      "execution_count": null,
      "metadata": {
        "colab": {
          "base_uri": "https://localhost:8080/",
          "height": 206
        },
        "id": "5PnmXsje6OdJ",
        "outputId": "14a80e21-7576-4d5c-e03f-98121cb5917d"
      },
      "outputs": [
        {
          "output_type": "execute_result",
          "data": {
            "text/plain": [
              "                                             RawText ICD10  \\\n",
              "0          Thrombose veineuse profonde cuisse gauche  I802   \n",
              "1                        Hémiplégie post-traumatique  S099   \n",
              "2         Masculinisation avec hyperplasie surrénale  E250   \n",
              "3                          Hyperammoniémie cérébrale  E722   \n",
              "4  Fistule artérioveineuse congénitale périphériq...  Q257   \n",
              "\n",
              "                                        cleaned_text  \n",
              "0          thrombose veineuse profonde cuisse gauche  \n",
              "1                         hémiplégie posttraumatique  \n",
              "2              masculinisation hyperplasie surrénale  \n",
              "3                          hyperammoniémie cérébrale  \n",
              "4  fistule artérioveineuse congénitale périphériq...  "
            ],
            "text/html": [
              "\n",
              "  <div id=\"df-ca95ac6f-425c-4f7e-ba72-e74a2854c40b\">\n",
              "    <div class=\"colab-df-container\">\n",
              "      <div>\n",
              "<style scoped>\n",
              "    .dataframe tbody tr th:only-of-type {\n",
              "        vertical-align: middle;\n",
              "    }\n",
              "\n",
              "    .dataframe tbody tr th {\n",
              "        vertical-align: top;\n",
              "    }\n",
              "\n",
              "    .dataframe thead th {\n",
              "        text-align: right;\n",
              "    }\n",
              "</style>\n",
              "<table border=\"1\" class=\"dataframe\">\n",
              "  <thead>\n",
              "    <tr style=\"text-align: right;\">\n",
              "      <th></th>\n",
              "      <th>RawText</th>\n",
              "      <th>ICD10</th>\n",
              "      <th>cleaned_text</th>\n",
              "    </tr>\n",
              "  </thead>\n",
              "  <tbody>\n",
              "    <tr>\n",
              "      <th>0</th>\n",
              "      <td>Thrombose veineuse profonde cuisse gauche</td>\n",
              "      <td>I802</td>\n",
              "      <td>thrombose veineuse profonde cuisse gauche</td>\n",
              "    </tr>\n",
              "    <tr>\n",
              "      <th>1</th>\n",
              "      <td>Hémiplégie post-traumatique</td>\n",
              "      <td>S099</td>\n",
              "      <td>hémiplégie posttraumatique</td>\n",
              "    </tr>\n",
              "    <tr>\n",
              "      <th>2</th>\n",
              "      <td>Masculinisation avec hyperplasie surrénale</td>\n",
              "      <td>E250</td>\n",
              "      <td>masculinisation hyperplasie surrénale</td>\n",
              "    </tr>\n",
              "    <tr>\n",
              "      <th>3</th>\n",
              "      <td>Hyperammoniémie cérébrale</td>\n",
              "      <td>E722</td>\n",
              "      <td>hyperammoniémie cérébrale</td>\n",
              "    </tr>\n",
              "    <tr>\n",
              "      <th>4</th>\n",
              "      <td>Fistule artérioveineuse congénitale périphériq...</td>\n",
              "      <td>Q257</td>\n",
              "      <td>fistule artérioveineuse congénitale périphériq...</td>\n",
              "    </tr>\n",
              "  </tbody>\n",
              "</table>\n",
              "</div>\n",
              "      <button class=\"colab-df-convert\" onclick=\"convertToInteractive('df-ca95ac6f-425c-4f7e-ba72-e74a2854c40b')\"\n",
              "              title=\"Convert this dataframe to an interactive table.\"\n",
              "              style=\"display:none;\">\n",
              "        \n",
              "  <svg xmlns=\"http://www.w3.org/2000/svg\" height=\"24px\"viewBox=\"0 0 24 24\"\n",
              "       width=\"24px\">\n",
              "    <path d=\"M0 0h24v24H0V0z\" fill=\"none\"/>\n",
              "    <path d=\"M18.56 5.44l.94 2.06.94-2.06 2.06-.94-2.06-.94-.94-2.06-.94 2.06-2.06.94zm-11 1L8.5 8.5l.94-2.06 2.06-.94-2.06-.94L8.5 2.5l-.94 2.06-2.06.94zm10 10l.94 2.06.94-2.06 2.06-.94-2.06-.94-.94-2.06-.94 2.06-2.06.94z\"/><path d=\"M17.41 7.96l-1.37-1.37c-.4-.4-.92-.59-1.43-.59-.52 0-1.04.2-1.43.59L10.3 9.45l-7.72 7.72c-.78.78-.78 2.05 0 2.83L4 21.41c.39.39.9.59 1.41.59.51 0 1.02-.2 1.41-.59l7.78-7.78 2.81-2.81c.8-.78.8-2.07 0-2.86zM5.41 20L4 18.59l7.72-7.72 1.47 1.35L5.41 20z\"/>\n",
              "  </svg>\n",
              "      </button>\n",
              "      \n",
              "  <style>\n",
              "    .colab-df-container {\n",
              "      display:flex;\n",
              "      flex-wrap:wrap;\n",
              "      gap: 12px;\n",
              "    }\n",
              "\n",
              "    .colab-df-convert {\n",
              "      background-color: #E8F0FE;\n",
              "      border: none;\n",
              "      border-radius: 50%;\n",
              "      cursor: pointer;\n",
              "      display: none;\n",
              "      fill: #1967D2;\n",
              "      height: 32px;\n",
              "      padding: 0 0 0 0;\n",
              "      width: 32px;\n",
              "    }\n",
              "\n",
              "    .colab-df-convert:hover {\n",
              "      background-color: #E2EBFA;\n",
              "      box-shadow: 0px 1px 2px rgba(60, 64, 67, 0.3), 0px 1px 3px 1px rgba(60, 64, 67, 0.15);\n",
              "      fill: #174EA6;\n",
              "    }\n",
              "\n",
              "    [theme=dark] .colab-df-convert {\n",
              "      background-color: #3B4455;\n",
              "      fill: #D2E3FC;\n",
              "    }\n",
              "\n",
              "    [theme=dark] .colab-df-convert:hover {\n",
              "      background-color: #434B5C;\n",
              "      box-shadow: 0px 1px 3px 1px rgba(0, 0, 0, 0.15);\n",
              "      filter: drop-shadow(0px 1px 2px rgba(0, 0, 0, 0.3));\n",
              "      fill: #FFFFFF;\n",
              "    }\n",
              "  </style>\n",
              "\n",
              "      <script>\n",
              "        const buttonEl =\n",
              "          document.querySelector('#df-ca95ac6f-425c-4f7e-ba72-e74a2854c40b button.colab-df-convert');\n",
              "        buttonEl.style.display =\n",
              "          google.colab.kernel.accessAllowed ? 'block' : 'none';\n",
              "\n",
              "        async function convertToInteractive(key) {\n",
              "          const element = document.querySelector('#df-ca95ac6f-425c-4f7e-ba72-e74a2854c40b');\n",
              "          const dataTable =\n",
              "            await google.colab.kernel.invokeFunction('convertToInteractive',\n",
              "                                                     [key], {});\n",
              "          if (!dataTable) return;\n",
              "\n",
              "          const docLinkHtml = 'Like what you see? Visit the ' +\n",
              "            '<a target=\"_blank\" href=https://colab.research.google.com/notebooks/data_table.ipynb>data table notebook</a>'\n",
              "            + ' to learn more about interactive tables.';\n",
              "          element.innerHTML = '';\n",
              "          dataTable['output_type'] = 'display_data';\n",
              "          await google.colab.output.renderOutput(dataTable, element);\n",
              "          const docLink = document.createElement('div');\n",
              "          docLink.innerHTML = docLinkHtml;\n",
              "          element.appendChild(docLink);\n",
              "        }\n",
              "      </script>\n",
              "    </div>\n",
              "  </div>\n",
              "  "
            ]
          },
          "metadata": {},
          "execution_count": 13
        }
      ],
      "source": [
        "train.head()"
      ],
      "id": "5PnmXsje6OdJ"
    },
    {
      "cell_type": "markdown",
      "source": [
        "For now, we will concatenate train, val and test datasets into one single dataset so that it'll be more performant for us to do Text Preprocessing"
      ],
      "metadata": {
        "id": "2q0iI_55QLSM"
      },
      "id": "2q0iI_55QLSM"
    },
    {
      "cell_type": "code",
      "source": [
        "frames = [train, val, test]\n",
        "dataset = pd.concat(frames, ignore_index=True, sort=False)"
      ],
      "metadata": {
        "id": "Tk2lJnQr3p7m"
      },
      "execution_count": null,
      "outputs": [],
      "id": "Tk2lJnQr3p7m"
    },
    {
      "cell_type": "code",
      "source": [
        "data=dataset[['cleaned_text', 'ICD10']]\n",
        "data.to_csv(r'Corpus.txt', header=None, index=None, sep='\\t', mode='a')\n",
        "import re\n",
        "string = open('Corpus.txt').read()\n",
        "new_corpus = re.sub('\"', '',string )\n",
        "open('Corpus.txt', 'w').write(new_corpus)"
      ],
      "metadata": {
        "id": "ulMLCBO-c2Td",
        "outputId": "87cee3a6-ce05-48fb-f039-85cd57f695b0",
        "colab": {
          "base_uri": "https://localhost:8080/"
        }
      },
      "id": "ulMLCBO-c2Td",
      "execution_count": null,
      "outputs": [
        {
          "output_type": "execute_result",
          "data": {
            "text/plain": [
              "8703507"
            ]
          },
          "metadata": {},
          "execution_count": 15
        }
      ]
    },
    {
      "cell_type": "code",
      "execution_count": null,
      "id": "af0c1433",
      "metadata": {
        "id": "af0c1433"
      },
      "outputs": [],
      "source": [
        "#Hyperparameters\n",
        "batch_size = 64\n",
        "latent_dim = 256\n",
        "num_samples = 1888260"
      ]
    },
    {
      "cell_type": "code",
      "execution_count": null,
      "id": "aca6ff11",
      "metadata": {
        "id": "aca6ff11",
        "outputId": "4e693186-c9bf-4715-a870-5cf332325a6e",
        "colab": {
          "base_uri": "https://localhost:8080/"
        }
      },
      "outputs": [
        {
          "output_type": "stream",
          "name": "stdout",
          "text": [
            "Number of samples: 241763\n",
            "Number of unique input tokens: 61\n",
            "Number of unique output tokens: 38\n",
            "Max sequence length for inputs: 162\n",
            "Max sequence length for outputs: 6\n"
          ]
        }
      ],
      "source": [
        "#Vectorize the data.\n",
        "input_texts = []\n",
        "target_texts = []\n",
        "input_chars = set()\n",
        "target_chars = set()\n",
        "\n",
        "with open('Corpus.txt', 'r', encoding='utf-8') as f:\n",
        "    lines = f.read().split('\\n')\n",
        "for line in lines[: min(num_samples, len(lines) - 1)]:\n",
        "    input_text, target_text = line.split('\\t')\n",
        "    target_text = '\\t' + target_text + '\\n'\n",
        "    input_texts.append(input_text)\n",
        "    target_texts.append(target_text)\n",
        "    for char in input_text:\n",
        "        if char not in input_chars:\n",
        "            input_chars.add(char)\n",
        "    for char in target_text:\n",
        "        if char not in target_chars:\n",
        "            target_chars.add(char)\n",
        "\n",
        "input_chars = sorted(list(input_chars))\n",
        "target_chars = sorted(list(target_chars))\n",
        "num_encoder_tokens = len(input_chars)\n",
        "num_decoder_tokens = len(target_chars)\n",
        "max_encoder_seq_length = max([len(txt) for txt in input_texts])\n",
        "max_decoder_seq_length = max([len(txt) for txt in target_texts])\n",
        "\n",
        "#Print size\n",
        "print('Number of samples:', len(input_texts))\n",
        "print('Number of unique input tokens:', num_encoder_tokens)\n",
        "print('Number of unique output tokens:', num_decoder_tokens)\n",
        "print('Max sequence length for inputs:', max_encoder_seq_length)\n",
        "print('Max sequence length for outputs:', max_decoder_seq_length)"
      ]
    },
    {
      "cell_type": "code",
      "execution_count": null,
      "id": "0ed80dda",
      "metadata": {
        "id": "0ed80dda"
      },
      "outputs": [],
      "source": [
        "#Define data for encoder and decoder\n",
        "input_token_id = dict([(char, i) for i, char in enumerate(input_chars)])\n",
        "target_token_id = dict([(char, i) for i, char in enumerate(target_chars)])\n",
        "\n",
        "encoder_in_data = np.zeros((len(input_texts), max_encoder_seq_length, num_encoder_tokens), dtype='float32')\n",
        "\n",
        "decoder_in_data = np.zeros((len(input_texts), max_decoder_seq_length, num_decoder_tokens), dtype='float32')\n",
        "\n",
        "decoder_target_data = np.zeros((len(input_texts), max_decoder_seq_length, num_decoder_tokens), dtype='float32')\n",
        "\n",
        "for i, (input_text, target_text) in enumerate(zip(input_texts, target_texts)):\n",
        "    for t, char in enumerate(input_text):\n",
        "        encoder_in_data[i, t, input_token_id[char]] = 1.\n",
        "    for t, char in enumerate(target_text):\n",
        "        decoder_in_data[i, t, target_token_id[char]] = 1.\n",
        "        if t > 0:\n",
        "            decoder_target_data[i, t - 1, target_token_id[char]] = 1"
      ]
    },
    {
      "cell_type": "code",
      "execution_count": null,
      "id": "9458a17c",
      "metadata": {
        "id": "9458a17c"
      },
      "outputs": [],
      "source": [
        "#Define and process the input sequence\n",
        "encoder_inputs = Input(shape=(None, num_encoder_tokens))\n",
        "encoder = LSTM(latent_dim, return_state=True)\n",
        "encoder_outputs, state_h, state_c = encoder(encoder_inputs)\n",
        "#We discard `encoder_outputs` and only keep the states.\n",
        "encoder_states = [state_h, state_c]\n",
        "\n",
        "#Using `encoder_states` set up the decoder as initial state.\n",
        "decoder_inputs = Input(shape=(None, num_decoder_tokens))\n",
        "decoder_lstm = LSTM(latent_dim, return_sequences=True, return_state=True)\n",
        "decoder_outputs, _, _ = decoder_lstm(decoder_inputs, initial_state=encoder_states)\n",
        "decoder_dense = Dense(num_decoder_tokens, activation='softmax')\n",
        "decoder_outputs = decoder_dense(decoder_outputs)"
      ]
    },
    {
      "cell_type": "code",
      "execution_count": null,
      "id": "1e1970d2",
      "metadata": {
        "id": "1e1970d2",
        "outputId": "5ecdc491-e0e8-4a2e-eeb5-c93f6eba4b64",
        "colab": {
          "base_uri": "https://localhost:8080/"
        }
      },
      "outputs": [
        {
          "output_type": "stream",
          "name": "stdout",
          "text": [
            "Model: \"model\"\n",
            "__________________________________________________________________________________________________\n",
            " Layer (type)                   Output Shape         Param #     Connected to                     \n",
            "==================================================================================================\n",
            " input_1 (InputLayer)           [(None, None, 61)]   0           []                               \n",
            "                                                                                                  \n",
            " input_2 (InputLayer)           [(None, None, 38)]   0           []                               \n",
            "                                                                                                  \n",
            " lstm (LSTM)                    [(None, 256),        325632      ['input_1[0][0]']                \n",
            "                                 (None, 256),                                                     \n",
            "                                 (None, 256)]                                                     \n",
            "                                                                                                  \n",
            " lstm_1 (LSTM)                  [(None, None, 256),  302080      ['input_2[0][0]',                \n",
            "                                 (None, 256),                     'lstm[0][1]',                   \n",
            "                                 (None, 256)]                     'lstm[0][2]']                   \n",
            "                                                                                                  \n",
            " dense (Dense)                  (None, None, 38)     9766        ['lstm_1[0][0]']                 \n",
            "                                                                                                  \n",
            "==================================================================================================\n",
            "Total params: 637,478\n",
            "Trainable params: 637,478\n",
            "Non-trainable params: 0\n",
            "__________________________________________________________________________________________________\n"
          ]
        }
      ],
      "source": [
        "#Final model\n",
        "model = Model([encoder_inputs, decoder_inputs], decoder_outputs)\n",
        "#Model Summary\n",
        "model.summary()"
      ]
    },
    {
      "cell_type": "code",
      "execution_count": null,
      "id": "5a0841f3",
      "metadata": {
        "id": "5a0841f3",
        "outputId": "f32e0ddc-426c-47f4-f16f-7e01f5274272",
        "colab": {
          "base_uri": "https://localhost:8080/"
        }
      },
      "outputs": [
        {
          "output_type": "stream",
          "name": "stdout",
          "text": [
            "encoder_in_data shape: (241763, 162, 61)\n",
            "decoder_in_data shape: (241763, 6, 38)\n",
            "decoder_target_data shape: (241763, 6, 38)\n"
          ]
        }
      ],
      "source": [
        "#Model data Shape\n",
        "print(\"encoder_in_data shape:\",encoder_in_data.shape)\n",
        "print(\"decoder_in_data shape:\",decoder_in_data.shape)\n",
        "print(\"decoder_target_data shape:\",decoder_target_data.shape)"
      ]
    },
    {
      "cell_type": "code",
      "execution_count": null,
      "id": "501b84a6",
      "metadata": {
        "scrolled": true,
        "id": "501b84a6",
        "outputId": "205f8cfc-3b62-45db-d5a1-49e340a0c3fa",
        "colab": {
          "base_uri": "https://localhost:8080/"
        }
      },
      "outputs": [
        {
          "output_type": "stream",
          "name": "stdout",
          "text": [
            "Epoch 1/50\n",
            "3023/3023 [==============================] - 62s 18ms/step - loss: 1.6213 - accuracy: 0.2739 - val_loss: 1.5858 - val_accuracy: 0.2824\n",
            "Epoch 2/50\n",
            "3023/3023 [==============================] - 51s 17ms/step - loss: 1.5918 - accuracy: 0.2833 - val_loss: 1.5808 - val_accuracy: 0.2862\n",
            "Epoch 3/50\n",
            "3023/3023 [==============================] - 51s 17ms/step - loss: 1.5752 - accuracy: 0.2878 - val_loss: 1.5660 - val_accuracy: 0.2939\n",
            "Epoch 4/50\n",
            "3023/3023 [==============================] - 52s 17ms/step - loss: 1.5589 - accuracy: 0.2949 - val_loss: 1.5574 - val_accuracy: 0.2945\n",
            "Epoch 5/50\n",
            "3023/3023 [==============================] - 51s 17ms/step - loss: 1.5472 - accuracy: 0.3003 - val_loss: 1.5397 - val_accuracy: 0.3026\n",
            "Epoch 6/50\n",
            "3023/3023 [==============================] - 51s 17ms/step - loss: 1.5318 - accuracy: 0.3054 - val_loss: 1.5224 - val_accuracy: 0.3109\n",
            "Epoch 7/50\n",
            "3023/3023 [==============================] - 51s 17ms/step - loss: 1.5179 - accuracy: 0.3125 - val_loss: 1.5182 - val_accuracy: 0.3138\n",
            "Epoch 8/50\n",
            "3023/3023 [==============================] - 51s 17ms/step - loss: 1.5099 - accuracy: 0.3158 - val_loss: 1.5065 - val_accuracy: 0.3194\n",
            "Epoch 9/50\n",
            "3023/3023 [==============================] - 51s 17ms/step - loss: 1.4966 - accuracy: 0.3217 - val_loss: 1.4899 - val_accuracy: 0.3247\n",
            "Epoch 10/50\n",
            "3023/3023 [==============================] - 51s 17ms/step - loss: 1.4865 - accuracy: 0.3262 - val_loss: 1.4856 - val_accuracy: 0.3268\n",
            "Epoch 11/50\n",
            "3023/3023 [==============================] - 51s 17ms/step - loss: 1.4773 - accuracy: 0.3290 - val_loss: 1.4804 - val_accuracy: 0.3259\n",
            "Epoch 12/50\n",
            "3023/3023 [==============================] - 52s 17ms/step - loss: 1.4684 - accuracy: 0.3321 - val_loss: 1.4694 - val_accuracy: 0.3322\n",
            "Epoch 13/50\n",
            "3023/3023 [==============================] - 52s 17ms/step - loss: 1.4601 - accuracy: 0.3346 - val_loss: 1.4576 - val_accuracy: 0.3349\n",
            "Epoch 14/50\n",
            "3023/3023 [==============================] - 52s 17ms/step - loss: 1.4525 - accuracy: 0.3367 - val_loss: 1.4526 - val_accuracy: 0.3370\n",
            "Epoch 15/50\n",
            "3023/3023 [==============================] - 51s 17ms/step - loss: 1.4456 - accuracy: 0.3393 - val_loss: 1.4524 - val_accuracy: 0.3343\n",
            "Epoch 16/50\n",
            "3023/3023 [==============================] - 51s 17ms/step - loss: 1.4398 - accuracy: 0.3414 - val_loss: 1.4405 - val_accuracy: 0.3406\n",
            "Epoch 17/50\n",
            "3023/3023 [==============================] - 51s 17ms/step - loss: 1.4346 - accuracy: 0.3428 - val_loss: 1.4338 - val_accuracy: 0.3437\n",
            "Epoch 18/50\n",
            "3023/3023 [==============================] - 51s 17ms/step - loss: 1.4303 - accuracy: 0.3442 - val_loss: 1.4324 - val_accuracy: 0.3430\n",
            "Epoch 19/50\n",
            "3023/3023 [==============================] - 51s 17ms/step - loss: 1.4262 - accuracy: 0.3452 - val_loss: 1.4289 - val_accuracy: 0.3438\n",
            "Epoch 20/50\n",
            "3023/3023 [==============================] - 51s 17ms/step - loss: 1.3983 - accuracy: 0.3577 - val_loss: 1.3790 - val_accuracy: 0.3650\n",
            "Epoch 21/50\n",
            "3023/3023 [==============================] - 51s 17ms/step - loss: 1.3449 - accuracy: 0.3708 - val_loss: 1.3267 - val_accuracy: 0.3773\n",
            "Epoch 22/50\n",
            "3023/3023 [==============================] - 51s 17ms/step - loss: 1.3036 - accuracy: 0.3836 - val_loss: 1.2955 - val_accuracy: 0.3906\n",
            "Epoch 23/50\n",
            "3023/3023 [==============================] - 51s 17ms/step - loss: 1.2618 - accuracy: 0.4000 - val_loss: 1.2467 - val_accuracy: 0.4040\n",
            "Epoch 24/50\n",
            "3023/3023 [==============================] - 51s 17ms/step - loss: 1.2340 - accuracy: 0.4102 - val_loss: 1.2343 - val_accuracy: 0.4120\n",
            "Epoch 25/50\n",
            "3023/3023 [==============================] - 51s 17ms/step - loss: 1.2108 - accuracy: 0.4191 - val_loss: 1.1991 - val_accuracy: 0.4240\n",
            "Epoch 26/50\n",
            "3023/3023 [==============================] - 51s 17ms/step - loss: 1.1817 - accuracy: 0.4295 - val_loss: 1.1740 - val_accuracy: 0.4354\n",
            "Epoch 27/50\n",
            "3023/3023 [==============================] - 51s 17ms/step - loss: 1.1659 - accuracy: 0.4346 - val_loss: 1.1601 - val_accuracy: 0.4382\n",
            "Epoch 28/50\n",
            "3023/3023 [==============================] - 51s 17ms/step - loss: 1.1465 - accuracy: 0.4405 - val_loss: 1.1480 - val_accuracy: 0.4397\n",
            "Epoch 29/50\n",
            "3023/3023 [==============================] - 51s 17ms/step - loss: 1.1199 - accuracy: 0.4493 - val_loss: 1.1147 - val_accuracy: 0.4506\n",
            "Epoch 30/50\n",
            "3023/3023 [==============================] - 51s 17ms/step - loss: 1.0983 - accuracy: 0.4568 - val_loss: 1.0928 - val_accuracy: 0.4595\n",
            "Epoch 31/50\n",
            "3023/3023 [==============================] - 51s 17ms/step - loss: 1.0776 - accuracy: 0.4633 - val_loss: 1.0836 - val_accuracy: 0.4628\n",
            "Epoch 32/50\n",
            "3023/3023 [==============================] - 51s 17ms/step - loss: 1.0597 - accuracy: 0.4695 - val_loss: 1.0748 - val_accuracy: 0.4645\n",
            "Epoch 33/50\n",
            "3023/3023 [==============================] - 51s 17ms/step - loss: 1.0430 - accuracy: 0.4742 - val_loss: 1.0466 - val_accuracy: 0.4741\n",
            "Epoch 34/50\n",
            "3023/3023 [==============================] - 51s 17ms/step - loss: 1.0294 - accuracy: 0.4792 - val_loss: 1.0362 - val_accuracy: 0.4789\n",
            "Epoch 35/50\n",
            "3023/3023 [==============================] - 51s 17ms/step - loss: 1.0109 - accuracy: 0.4856 - val_loss: 1.0145 - val_accuracy: 0.4861\n",
            "Epoch 36/50\n",
            "3023/3023 [==============================] - 51s 17ms/step - loss: 0.9972 - accuracy: 0.4904 - val_loss: 1.0026 - val_accuracy: 0.4915\n",
            "Epoch 37/50\n",
            "3023/3023 [==============================] - 51s 17ms/step - loss: 1.0069 - accuracy: 0.4881 - val_loss: 0.9994 - val_accuracy: 0.4922\n",
            "Epoch 38/50\n",
            "3023/3023 [==============================] - 51s 17ms/step - loss: 0.9750 - accuracy: 0.4982 - val_loss: 1.0209 - val_accuracy: 0.4853\n",
            "Epoch 39/50\n",
            "3023/3023 [==============================] - 51s 17ms/step - loss: 0.9653 - accuracy: 0.5014 - val_loss: 0.9808 - val_accuracy: 0.4985\n",
            "Epoch 40/50\n",
            "3023/3023 [==============================] - 51s 17ms/step - loss: 0.9523 - accuracy: 0.5056 - val_loss: 0.9670 - val_accuracy: 0.5034\n",
            "Epoch 41/50\n",
            "3023/3023 [==============================] - 51s 17ms/step - loss: 0.9379 - accuracy: 0.5101 - val_loss: 0.9545 - val_accuracy: 0.5074\n",
            "Epoch 42/50\n",
            "3023/3023 [==============================] - 51s 17ms/step - loss: 0.9351 - accuracy: 0.5109 - val_loss: 0.9663 - val_accuracy: 0.5033\n",
            "Epoch 43/50\n",
            "3023/3023 [==============================] - 51s 17ms/step - loss: 0.9182 - accuracy: 0.5167 - val_loss: 0.9333 - val_accuracy: 0.5138\n",
            "Epoch 44/50\n",
            "3023/3023 [==============================] - 51s 17ms/step - loss: 0.9049 - accuracy: 0.5209 - val_loss: 0.9256 - val_accuracy: 0.5179\n",
            "Epoch 45/50\n",
            "3023/3023 [==============================] - 51s 17ms/step - loss: 0.9048 - accuracy: 0.5209 - val_loss: 0.9286 - val_accuracy: 0.5169\n",
            "Epoch 46/50\n",
            "3023/3023 [==============================] - 51s 17ms/step - loss: 0.8888 - accuracy: 0.5263 - val_loss: 0.9126 - val_accuracy: 0.5210\n",
            "Epoch 47/50\n",
            "3023/3023 [==============================] - 51s 17ms/step - loss: 0.8772 - accuracy: 0.5296 - val_loss: 0.9032 - val_accuracy: 0.5241\n",
            "Epoch 48/50\n",
            "3023/3023 [==============================] - 51s 17ms/step - loss: 0.8825 - accuracy: 0.5282 - val_loss: 0.9000 - val_accuracy: 0.5262\n",
            "Epoch 49/50\n",
            "3023/3023 [==============================] - 51s 17ms/step - loss: 0.8619 - accuracy: 0.5351 - val_loss: 0.9034 - val_accuracy: 0.5268\n",
            "Epoch 50/50\n",
            "3023/3023 [==============================] - 56s 18ms/step - loss: 0.8624 - accuracy: 0.5350 - val_loss: 0.8935 - val_accuracy: 0.5268\n"
          ]
        },
        {
          "output_type": "execute_result",
          "data": {
            "text/plain": [
              "<keras.callbacks.History at 0x7f30436ef100>"
            ]
          },
          "metadata": {},
          "execution_count": 22
        }
      ],
      "source": [
        "#Compiling and training the model\n",
        "model.compile(optimizer='Adam',loss='categorical_crossentropy', metrics=['accuracy'] )\n",
        "model.fit([encoder_in_data, decoder_in_data], decoder_target_data, batch_size = batch_size, epochs=50, validation_split=0.2)"
      ]
    },
    {
      "cell_type": "code",
      "execution_count": null,
      "id": "8763da13",
      "metadata": {
        "id": "8763da13"
      },
      "outputs": [],
      "source": [
        "#Define sampling models\n",
        "encoder_model = Model(encoder_inputs, encoder_states)\n",
        "decoder_state_input_h = Input(shape=(latent_dim,))\n",
        "decoder_state_input_c = Input(shape=(latent_dim,))\n",
        "decoder_states_inputs = [decoder_state_input_h, decoder_state_input_c]\n",
        "decoder_outputs, state_h, state_c = decoder_lstm(decoder_inputs, initial_state=decoder_states_inputs)\n",
        "decoder_states = [state_h, state_c]\n",
        "decoder_outputs = decoder_dense(decoder_outputs)\n",
        "decoder_model = Model([decoder_inputs] + decoder_states_inputs, [decoder_outputs] + decoder_states)"
      ]
    },
    {
      "cell_type": "code",
      "execution_count": null,
      "id": "0d76b12d",
      "metadata": {
        "id": "0d76b12d"
      },
      "outputs": [],
      "source": [
        "reverse_input_char_index = dict((i, char) for char, i in input_token_id.items())\n",
        "reverse_target_char_index = dict((i, char) for char, i in target_token_id.items())\n",
        "\n",
        "#Define Decode Sequence\n",
        "def decode_sequence(input_seq):\n",
        "    #Encode the input as state vectors.\n",
        "    states_value = encoder_model.predict(input_seq)\n",
        "\n",
        "    #Generate empty target sequence of length 1.\n",
        "    target_seq = np.zeros((1, 1, num_decoder_tokens))\n",
        "    #Get the first character of target sequence with the start character.\n",
        "    target_seq[0, 0, target_token_id['\\t']] = 1.\n",
        "\n",
        "    #Sampling loop for a batch of sequences\n",
        "    #(to simplify, here we assume a batch of size 1).\n",
        "    stop_condition = False\n",
        "    decoded_sentence = ''\n",
        "    while not stop_condition:\n",
        "        output_tokens, h, c = decoder_model.predict([target_seq] + states_value)\n",
        "\n",
        "        #Sample a token\n",
        "        sampled_token_index = np.argmax(output_tokens[0, -1, :])\n",
        "        sampled_char = reverse_target_char_index[sampled_token_index]\n",
        "        decoded_sentence += sampled_char\n",
        "\n",
        "        #Exit condition: either hit max length\n",
        "        #or find stop character.\n",
        "        if (sampled_char == '\\n' or\n",
        "           len(decoded_sentence) > max_decoder_seq_length):\n",
        "            stop_condition = True\n",
        "\n",
        "        #Update the target sequence (of length 1).\n",
        "        target_seq = np.zeros((1, 1, num_decoder_tokens))\n",
        "        target_seq[0, 0, sampled_token_index] = 1.\n",
        "\n",
        "        #Update states\n",
        "        states_value = [h, c]\n",
        "\n",
        "    return decoded_sentence"
      ]
    },
    {
      "cell_type": "code",
      "execution_count": null,
      "id": "4bfbaecd",
      "metadata": {
        "id": "4bfbaecd",
        "outputId": "0dd48767-617a-4fc2-a0da-642e3bd3c43f",
        "colab": {
          "base_uri": "https://localhost:8080/"
        }
      },
      "outputs": [
        {
          "output_type": "stream",
          "name": "stdout",
          "text": [
            "1/1 [==============================] - 0s 446ms/step\n",
            "1/1 [==============================] - 0s 418ms/step\n",
            "1/1 [==============================] - 0s 26ms/step\n",
            "1/1 [==============================] - 0s 25ms/step\n",
            "1/1 [==============================] - 0s 25ms/step\n",
            "1/1 [==============================] - 0s 25ms/step\n",
            "-\n",
            "Input sentence: thrombose veineuse profonde cuisse gauche\n",
            "Decoded sentence: T828\n",
            "\n",
            "1/1 [==============================] - 0s 26ms/step\n",
            "1/1 [==============================] - 0s 25ms/step\n",
            "1/1 [==============================] - 0s 24ms/step\n",
            "1/1 [==============================] - 0s 23ms/step\n",
            "1/1 [==============================] - 0s 24ms/step\n",
            "1/1 [==============================] - 0s 23ms/step\n",
            "-\n",
            "Input sentence: hémiplégie posttraumatique\n",
            "Decoded sentence: G819\n",
            "\n",
            "1/1 [==============================] - 0s 22ms/step\n",
            "1/1 [==============================] - 0s 22ms/step\n",
            "1/1 [==============================] - 0s 24ms/step\n",
            "1/1 [==============================] - 0s 24ms/step\n",
            "1/1 [==============================] - 0s 25ms/step\n",
            "1/1 [==============================] - 0s 23ms/step\n",
            "-\n",
            "Input sentence: masculinisation hyperplasie surrénale\n",
            "Decoded sentence: Q878\n",
            "\n",
            "1/1 [==============================] - 0s 22ms/step\n",
            "1/1 [==============================] - 0s 23ms/step\n",
            "1/1 [==============================] - 0s 23ms/step\n",
            "1/1 [==============================] - 0s 24ms/step\n",
            "1/1 [==============================] - 0s 25ms/step\n",
            "1/1 [==============================] - 0s 23ms/step\n",
            "-\n",
            "Input sentence: hyperammoniémie cérébrale\n",
            "Decoded sentence: E230\n",
            "\n",
            "1/1 [==============================] - 0s 23ms/step\n",
            "1/1 [==============================] - 0s 23ms/step\n",
            "1/1 [==============================] - 0s 24ms/step\n",
            "1/1 [==============================] - 0s 24ms/step\n",
            "1/1 [==============================] - 0s 23ms/step\n",
            "1/1 [==============================] - 0s 23ms/step\n",
            "-\n",
            "Input sentence: fistule artérioveineuse congénitale périphérique vaisseau pulmonaires\n",
            "Decoded sentence: I772\n",
            "\n",
            "1/1 [==============================] - 0s 23ms/step\n",
            "1/1 [==============================] - 0s 24ms/step\n",
            "1/1 [==============================] - 0s 24ms/step\n",
            "1/1 [==============================] - 0s 24ms/step\n",
            "1/1 [==============================] - 0s 25ms/step\n",
            "1/1 [==============================] - 0s 24ms/step\n",
            "-\n",
            "Input sentence: prothèse valvulaire mécanique\n",
            "Decoded sentence: Z952\n",
            "\n",
            "1/1 [==============================] - 0s 22ms/step\n",
            "1/1 [==============================] - 0s 23ms/step\n",
            "1/1 [==============================] - 0s 23ms/step\n",
            "1/1 [==============================] - 0s 25ms/step\n",
            "1/1 [==============================] - 0s 23ms/step\n",
            "1/1 [==============================] - 0s 24ms/step\n",
            "-\n",
            "Input sentence: tumeur maligne partie molles fesse\n",
            "Decoded sentence: C718\n",
            "\n",
            "1/1 [==============================] - 0s 22ms/step\n",
            "1/1 [==============================] - 0s 23ms/step\n",
            "1/1 [==============================] - 0s 22ms/step\n",
            "1/1 [==============================] - 0s 21ms/step\n",
            "1/1 [==============================] - 0s 23ms/step\n",
            "1/1 [==============================] - 0s 23ms/step\n",
            "-\n",
            "Input sentence: complexe xpcs\n",
            "Decoded sentence: K918\n",
            "\n",
            "1/1 [==============================] - 0s 21ms/step\n",
            "1/1 [==============================] - 0s 23ms/step\n",
            "1/1 [==============================] - 0s 23ms/step\n",
            "1/1 [==============================] - 0s 23ms/step\n",
            "1/1 [==============================] - 0s 23ms/step\n",
            "1/1 [==============================] - 0s 31ms/step\n",
            "-\n",
            "Input sentence: sclérodermie acrosclérotique néonatale\n",
            "Decoded sentence: L940\n",
            "\n",
            "1/1 [==============================] - 0s 25ms/step\n",
            "1/1 [==============================] - 0s 22ms/step\n",
            "1/1 [==============================] - 0s 23ms/step\n",
            "1/1 [==============================] - 0s 24ms/step\n",
            "1/1 [==============================] - 0s 24ms/step\n",
            "1/1 [==============================] - 0s 22ms/step\n",
            "-\n",
            "Input sentence: vih pelvienne femme nca inflammatoire compliquant grossesse affectant foetus nouveauné\n",
            "Decoded sentence: J387\n",
            "\n",
            "1/1 [==============================] - 0s 20ms/step\n",
            "1/1 [==============================] - 0s 22ms/step\n",
            "1/1 [==============================] - 0s 21ms/step\n",
            "1/1 [==============================] - 0s 22ms/step\n",
            "1/1 [==============================] - 0s 23ms/step\n",
            "-\n",
            "Input sentence: accident travail écrasement camion\n",
            "Decoded sentence: W23\n",
            "\n",
            "1/1 [==============================] - 0s 22ms/step\n",
            "1/1 [==============================] - 0s 22ms/step\n",
            "1/1 [==============================] - 0s 21ms/step\n",
            "1/1 [==============================] - 0s 23ms/step\n",
            "1/1 [==============================] - 0s 22ms/step\n",
            "1/1 [==============================] - 0s 24ms/step\n",
            "-\n",
            "Input sentence: eternuement\n",
            "Decoded sentence: A830\n",
            "\n",
            "1/1 [==============================] - 0s 22ms/step\n",
            "1/1 [==============================] - 0s 23ms/step\n",
            "1/1 [==============================] - 0s 22ms/step\n",
            "1/1 [==============================] - 0s 23ms/step\n",
            "1/1 [==============================] - 0s 23ms/step\n",
            "1/1 [==============================] - 0s 22ms/step\n",
            "-\n",
            "Input sentence: spondylarthrose radiculopathie m472\n",
            "Decoded sentence: G438\n",
            "\n",
            "1/1 [==============================] - 0s 23ms/step\n",
            "1/1 [==============================] - 0s 24ms/step\n",
            "1/1 [==============================] - 0s 24ms/step\n",
            "1/1 [==============================] - 0s 24ms/step\n",
            "1/1 [==============================] - 0s 23ms/step\n",
            "-\n",
            "Input sentence: gangrène due spirochète nca\n",
            "Decoded sentence: R02\n",
            "\n",
            "1/1 [==============================] - 0s 22ms/step\n",
            "1/1 [==============================] - 0s 22ms/step\n",
            "1/1 [==============================] - 0s 25ms/step\n",
            "1/1 [==============================] - 0s 25ms/step\n",
            "1/1 [==============================] - 0s 24ms/step\n",
            "1/1 [==============================] - 0s 23ms/step\n",
            "-\n",
            "Input sentence: ostéoporose\n",
            "Decoded sentence: M809\n",
            "\n",
            "1/1 [==============================] - 0s 29ms/step\n",
            "1/1 [==============================] - 0s 23ms/step\n",
            "1/1 [==============================] - 0s 27ms/step\n",
            "1/1 [==============================] - 0s 29ms/step\n",
            "1/1 [==============================] - 0s 25ms/step\n",
            "1/1 [==============================] - 0s 24ms/step\n",
            "-\n",
            "Input sentence: arythmie fibrillation auriculaire\n",
            "Decoded sentence: I498\n",
            "\n",
            "1/1 [==============================] - 0s 22ms/step\n",
            "1/1 [==============================] - 0s 23ms/step\n",
            "1/1 [==============================] - 0s 22ms/step\n",
            "1/1 [==============================] - 0s 26ms/step\n",
            "1/1 [==============================] - 0s 23ms/step\n",
            "1/1 [==============================] - 0s 25ms/step\n",
            "-\n",
            "Input sentence: phlegmon face\n",
            "Decoded sentence: L031\n",
            "\n",
            "1/1 [==============================] - 0s 21ms/step\n",
            "1/1 [==============================] - 0s 23ms/step\n",
            "1/1 [==============================] - 0s 23ms/step\n",
            "1/1 [==============================] - 0s 25ms/step\n",
            "1/1 [==============================] - 0s 23ms/step\n",
            "-\n",
            "Input sentence: douleur dentaire dent\n",
            "Decoded sentence: R02\n",
            "\n",
            "1/1 [==============================] - 0s 23ms/step\n",
            "1/1 [==============================] - 0s 23ms/step\n",
            "1/1 [==============================] - 0s 22ms/step\n",
            "1/1 [==============================] - 0s 22ms/step\n",
            "1/1 [==============================] - 0s 24ms/step\n",
            "1/1 [==============================] - 0s 25ms/step\n",
            "-\n",
            "Input sentence: néphrectomie totale\n",
            "Decoded sentence: Z904\n",
            "\n",
            "1/1 [==============================] - 0s 23ms/step\n",
            "1/1 [==============================] - 0s 24ms/step\n",
            "1/1 [==============================] - 0s 24ms/step\n",
            "1/1 [==============================] - 0s 23ms/step\n",
            "1/1 [==============================] - 0s 29ms/step\n",
            "1/1 [==============================] - 0s 23ms/step\n",
            "-\n",
            "Input sentence: adhésiolyse grêle\n",
            "Decoded sentence: T888\n",
            "\n"
          ]
        }
      ],
      "source": [
        "for seq_index in range(20):\n",
        "    input_seq = encoder_in_data[seq_index: seq_index + 1]\n",
        "    decoded_sentence = decode_sequence(input_seq)\n",
        "    print('-')\n",
        "    print('Input sentence:', input_texts[seq_index])\n",
        "    print('Decoded sentence:', decoded_sentence)"
      ]
    },
    {
      "cell_type": "code",
      "execution_count": null,
      "id": "27b3299e",
      "metadata": {
        "id": "27b3299e"
      },
      "outputs": [],
      "source": []
    }
  ],
  "metadata": {
    "kernelspec": {
      "display_name": "Python 3",
      "language": "python",
      "name": "python3"
    },
    "language_info": {
      "codemirror_mode": {
        "name": "ipython",
        "version": 3
      },
      "file_extension": ".py",
      "mimetype": "text/x-python",
      "name": "python",
      "nbconvert_exporter": "python",
      "pygments_lexer": "ipython3",
      "version": "3.9.4"
    },
    "colab": {
      "provenance": [],
      "machine_shape": "hm"
    },
    "accelerator": "GPU",
    "gpuClass": "standard"
  },
  "nbformat": 4,
  "nbformat_minor": 5
}